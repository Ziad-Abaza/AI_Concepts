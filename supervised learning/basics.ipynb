{
 "cells": [
  {
   "cell_type": "code",
   "execution_count": 3,
   "metadata": {},
   "outputs": [
    {
     "name": "stdout",
     "output_type": "stream",
     "text": [
      "Accuracy: 80.00%\n",
      "The predicted flower type is: Red_Flower\n"
     ]
    }
   ],
   "source": [
    "#  الانحدار الخطي (Linear Regression)\n",
    "\n",
    "from sklearn.linear_model import LinearRegression\n",
    "\n",
    "# إنشاء نموذج الانحدار الخطي\n",
    "# LinearRegression: يستخدم لتنبؤ القيم المستمرة بناءً على العلاقة بين المدخلات والمخرجات.\n",
    "# مثال: التنبؤ بأسعار المنازل بناءً على عدد الغرف ومساحة المنزل.\n",
    "model = LinearRegression()\n",
    "\n",
    "# تدريب النموذج على بيانات التدريب\n",
    "# fit: يستخدم لتدريب النموذج على بيانات التدريب (X_train) والقيم المستهدفة (y_train).\n",
    "# النموذج يتعلم العلاقة بين المدخلات والقيم الحقيقية للتنبؤ بشكل أفضل.\n",
    "model.fit(X_train, y_train)\n",
    "\n",
    "# التنبؤ بالقيم باستخدام النموذج المدرب\n",
    "# predict: يستخدم لتنبؤ القيم الجديدة بناءً على النموذج المدرب.\n",
    "# يتم إدخال بيانات الاختبار (X_test) للحصول على التنبؤات للقيم.\n",
    "y_pred = model.predict(X_test)\n",
    "\n"
   ]
  },
  {
   "cell_type": "code",
   "execution_count": 1,
   "metadata": {},
   "outputs": [
    {
     "ename": "SyntaxError",
     "evalue": "invalid syntax (663730320.py, line 1)",
     "output_type": "error",
     "traceback": [
      "\u001b[1;36m  Cell \u001b[1;32mIn[1], line 1\u001b[1;36m\u001b[0m\n\u001b[1;33m    الانحدار اللوجستي (Logistic Regression)\u001b[0m\n\u001b[1;37m             ^\u001b[0m\n\u001b[1;31mSyntaxError\u001b[0m\u001b[1;31m:\u001b[0m invalid syntax\n"
     ]
    }
   ],
   "source": [
    "# الانحدار اللوجستي (Logistic Regression)\n",
    "\n",
    "from sklearn.linear_model import LogisticRegression\n",
    "\n",
    "# إنشاء نموذج الانحدار اللوجستي\n",
    "# LogisticRegression: يستخدم لتصنيف البيانات إلى فئات، سواء ثنائية أو متعددة.\n",
    "# مثال: تصنيف رسائل البريد الإلكتروني إلى \"مزعج\" أو \"غير مزعج\".\n",
    "model = LogisticRegression()\n",
    "\n",
    "# تدريب النموذج على بيانات التدريب\n",
    "# fit: يستخدم لتدريب النموذج على بيانات التدريب (X_train) والفئات المستهدفة (y_train).\n",
    "# النموذج يتعلم كيفية التمييز بين الفئات بناءً على البيانات المقدمة.\n",
    "model.fit(X_train, y_train)\n",
    "\n",
    "# التنبؤ بالفئات باستخدام النموذج المدرب\n",
    "# predict: يستخدم لتنبؤ الفئات الجديدة بناءً على النموذج المدرب.\n",
    "# يتم إدخال بيانات الاختبار (X_test) للحصول على التنبؤات للفئات.\n",
    "y_pred = model.predict(X_test)\n"
   ]
  },
  {
   "cell_type": "code",
   "execution_count": null,
   "metadata": {},
   "outputs": [],
   "source": [
    "# آلات الدعم النقطي (Support Vector Machines - SVM)\n",
    "\n",
    "from sklearn.svm import SVC\n",
    "\n",
    "# إنشاء نموذج SVM\n",
    "# SVC: يستخدم لإنشاء نموذج دعم النقطيات الذي يسعى لإيجاد أفضل حدود بين الفئات المختلفة.\n",
    "# مثال: تصنيف الصور إلى فئات مثل \"قطط\" و\"كلاب\".\n",
    "model = SVC()\n",
    "\n",
    "# تدريب النموذج على بيانات التدريب\n",
    "# fit: يستخدم لتدريب النموذج على بيانات التدريب (X_train) والفئات المستهدفة (y_train).\n",
    "# النموذج يتعلم كيفية إيجاد أفضل فصل بين الفئات المختلفة.\n",
    "model.fit(X_train, y_train)\n",
    "\n",
    "# التنبؤ بالفئات باستخدام النموذج المدرب\n",
    "# predict: يستخدم لتنبؤ الفئات الجديدة بناءً على النموذج المدرب.\n",
    "# يتم إدخال بيانات الاختبار (X_test) للحصول على التنبؤات للفئات.\n",
    "y_pred = model.predict(X_test)\n"
   ]
  },
  {
   "cell_type": "code",
   "execution_count": null,
   "metadata": {},
   "outputs": [],
   "source": [
    "# شجرة القرار (Decision Tree)\n",
    "\n",
    "from sklearn.tree import DecisionTreeClassifier\n",
    "\n",
    "# إنشاء نموذج شجرة القرار\n",
    "# DecisionTreeClassifier: يستخدم لبناء شجرة قرارات لتصنيف البيانات بناءً على معايير محددة.\n",
    "# مثال: تصنيف المرضى إلى فئات بناءً على الأعراض والتاريخ الطبي.\n",
    "model = DecisionTreeClassifier()\n",
    "\n",
    "# تدريب النموذج على بيانات التدريب\n",
    "# fit: يستخدم لتدريب النموذج على بيانات التدريب (X_train) والفئات المستهدفة (y_train).\n",
    "# النموذج يتعلم كيفية تقسيم البيانات بناءً على المعايير المختلفة.\n",
    "model.fit(X_train, y_train)\n",
    "\n",
    "# التنبؤ بالفئات باستخدام النموذج المدرب\n",
    "# predict: يستخدم لتنبؤ الفئات الجديدة بناءً على النموذج المدرب.\n",
    "# يتم إدخال بيانات الاختبار (X_test) للحصول على التنبؤات للفئات.\n",
    "y_pred = model.predict(X_test)\n"
   ]
  },
  {
   "cell_type": "code",
   "execution_count": 4,
   "metadata": {},
   "outputs": [],
   "source": [
    "# تحضير البيانات\n",
    "\n",
    "from sklearn.model_selection import train_test_split\n",
    "import numpy as np\n",
    "# بيانات وهمية: الطول والعرض (سم) لكل زهرة\n",
    "# X: مصفوفة تحتوي على ميزات البيانات\n",
    "X = np.array([\n",
    "    [5.1, 3.5],  # زهرة 1: الطول 5.1 سم، العرض 3.5 سم\n",
    "    [4.9, 3.0],  # زهرة 2: الطول 4.9 سم، العرض 3.0 سم\n",
    "    [4.7, 3.2],  # زهرة 3: الطول 4.7 سم، العرض 3.2 سم\n",
    "    [4.6, 3.1],  # زهرة 4: الطول 4.6 سم، العرض 3.1 سم\n",
    "    [5.0, 3.6]   # زهرة 5: الطول 5.0 سم، العرض 3.6 سم\n",
    "])\n",
    "\n",
    "# فئات البيانات: أنواع الزهور\n",
    "# y: مصفوفة تحتوي على الفئات المستهدفة (أسماء الزهور)\n",
    "y = np.array([\n",
    "    'setosa',  # زهرة 1\n",
    "    'setosa',  # زهرة 2\n",
    "    'versicolor',  # زهرة 3\n",
    "    'versicolor',  # زهرة 4\n",
    "    'setosa'  # زهرة 5\n",
    "])\n",
    "\n",
    "# تقسيم البيانات إلى مجموعة تدريب ومجموعة اختبار\n",
    "# train_test_split: دالة لتقسيم البيانات والفئات إلى مجموعة تدريب ومجموعة اختبار.\n",
    "# test_size: تحديد نسبة البيانات المخصصة لمجموعة الاختبار (هنا 30%).\n",
    "# random_state: لتكرار التقسيم للحصول على نفس النتائج عند تشغيل الكود عدة مرات.\n",
    "X_train, X_test, y_train, y_test = train_test_split(X, y, test_size=0.3, random_state=42)\n"
   ]
  },
  {
   "cell_type": "code",
   "execution_count": null,
   "metadata": {},
   "outputs": [],
   "source": [
    "# تقييم النموذج\n",
    "\n",
    "from sklearn.metrics import accuracy_score\n",
    "\n",
    "# التنبؤ بفئات بيانات الاختبار\n",
    "# يستخدم النموذج المدرب للتنبؤ بالفئات بناءً على بيانات الاختبار.\n",
    "y_pred = model.predict(X_test)\n",
    "\n",
    "# حساب دقة النموذج\n",
    "# accuracy_score: دالة لحساب دقة النموذج بناءً على مقارنة الفئات الحقيقية بالفئات المتنبأ بها.\n",
    "# الدقة تمثل نسبة التنبؤات الصحيحة إلى إجمالي التنبؤات.\n",
    "accuracy = accuracy_score(y_test, y_pred)\n",
    "\n",
    "# طباعة دقة النموذج\n",
    "# يتم طباعة الدقة لتقييم مدى جودة النموذج في تصنيف البيانات.\n",
    "print(f'Accuracy: {accuracy}')\n"
   ]
  },
  {
   "cell_type": "code",
   "execution_count": null,
   "metadata": {},
   "outputs": [],
   "source": [
    "# التنبؤ بالبيانات الجديدة\n",
    "\n",
    "# مثال لبيانات جديدة للتنبؤ بها\n",
    "new_data = np.array([\n",
    "    [5.0, 3.5],  # بيانات زهرة جديدة 1\n",
    "    [4.8, 3.4]   # بيانات زهرة جديدة 2\n",
    "])\n",
    "\n",
    "# التنبؤ بفئات البيانات الجديدة باستخدام النموذج المدرب\n",
    "new_data_pred = model.predict(new_data)\n"
   ]
  }
 ],
 "metadata": {
  "kernelspec": {
   "display_name": "Python 3",
   "language": "python",
   "name": "python3"
  },
  "language_info": {
   "codemirror_mode": {
    "name": "ipython",
    "version": 3
   },
   "file_extension": ".py",
   "mimetype": "text/x-python",
   "name": "python",
   "nbconvert_exporter": "python",
   "pygments_lexer": "ipython3",
   "version": "3.12.4"
  }
 },
 "nbformat": 4,
 "nbformat_minor": 2
}
