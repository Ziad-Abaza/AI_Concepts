{
 "cells": [
  {
   "cell_type": "code",
   "execution_count": 1,
   "metadata": {},
   "outputs": [
    {
     "name": "stdout",
     "output_type": "stream",
     "text": [
      "Accuracy: 100.00%\n"
     ]
    }
   ],
   "source": [
    "# التعلم الموجه هو نوع من تعلم الآلة حيث تقوم بتعليم النموذج باستخدام بيانات معروفة تحتوي على مدخلات ومخرجات\n",
    "# الهدف هو تعليم النموذج كيفية التنبؤ بالمخرجات الصحيحة عند تقديم مدخلات جديدة\n",
    "from sklearn.datasets import load_iris # يستخدم لتحميل مجموعة بيانات الـ Iris\n",
    "#  Iris هي مجموعة بيانات شهيرة تُستخدم عادةً لأغراض تعليمية وتحتوي على معلومات عن ثلاثة أنواع من الأزهار.\n",
    "# تحتوي البيانات على أربع ميزات (أبعاد البتلات والأوراق)\n",
    "from sklearn.model_selection import train_test_split #يقسم البيانات إلى مجموعات للتدريب والاختبار\n",
    "from sklearn.linear_model import LogisticRegression #نموذج بسيط للتعلم الموجه\n",
    "from sklearn.metrics import accuracy_score # لقياس دقة النموذج\n",
    "\n",
    "# Loading the dataset\n",
    "iris = load_iris()\n",
    "X, y = iris.data, iris.target\n",
    "# X: يحتوي على الميزات (المدخلات)، وهي الأبعاد المختلفة للزهور.\n",
    "# y: يحتوي على الفئات (المخرجات)، وهي أنواع الزهور.\n",
    "\n",
    "# Splitting the dataset into training and testing sets\n",
    "X_train, X_test, y_train, y_test = train_test_split(X, y, test_size=0.2, random_state=42)\n",
    "# test_size=0.2: يعني أن 20% من البيانات ستكون للاختبار والباقي للتدريب.\n",
    "# random_state=42: يضمن أن تقسيم البيانات سيكون دائمًا نفسه (لإعادة التكرار).\n",
    "\n",
    "# Creating a model and training it (Supervised Learning)\n",
    "model = LogisticRegression(max_iter=200)\n",
    "model.fit(X_train, y_train)\n",
    "# LogisticRegression: نموذج للتصنيف. يستخدم هنا لتعليم النموذج كيفية تصنيف الزهور بناءً على الأبعاد.\n",
    "# max_iter=200: يحدد الحد الأقصى لعدد التكرارات التي سيقوم بها النموذج أثناء التدريب.\n",
    "# Making predictions\n",
    "# fit(X_train, y_train): يقوم بتدريب النموذج باستخدام بيانات التدريب.\n",
    "\n",
    "y_pred = model.predict(X_test) # يستخدم النموذج المتعلم للتنبؤ بأنواع الزهور بناءً على بيانات الاختبار.\n",
    "\n",
    "# Evaluating the model\n",
    "accuracy = accuracy_score(y_test, y_pred)\n",
    "# يقارن بين المخرجات الفعلية (y_test) والتنبؤات (y_pred) لحساب الدقة.\n",
    "print(f'Accuracy: {accuracy * 100:.2f}%')"
   ]
  }
 ],
 "metadata": {
  "kernelspec": {
   "display_name": "Python 3",
   "language": "python",
   "name": "python3"
  },
  "language_info": {
   "codemirror_mode": {
    "name": "ipython",
    "version": 3
   },
   "file_extension": ".py",
   "mimetype": "text/x-python",
   "name": "python",
   "nbconvert_exporter": "python",
   "pygments_lexer": "ipython3",
   "version": "3.12.4"
  }
 },
 "nbformat": 4,
 "nbformat_minor": 2
}
