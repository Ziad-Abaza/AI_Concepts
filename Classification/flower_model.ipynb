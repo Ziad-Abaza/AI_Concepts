{
 "cells": [
  {
   "cell_type": "code",
   "execution_count": null,
   "metadata": {},
   "outputs": [],
   "source": [
    "# التصنيف هو نوع من أنواع المهام في التعلم الموجَّه\n",
    "#  حيث يكون الهدف هو التنبؤ بالفئة أو الفئة التي ينتمي إليها شيء معين\n",
    "#  بدلاً من التنبؤ بقيمة عددية (كما في الانحدار)، يقوم التصنيف بتصنيف المدخلات إلى واحدة من عدة فئات\n",
    "\n",
    "from sklearn.datasets import load_iris  # تحميل مجموعة بيانات الأيريس.\n",
    "from sklearn.model_selection import train_test_split  # لتقسيم البيانات إلى مجموعة تدريب واختبار.\n",
    "from sklearn.tree import DecisionTreeClassifier  # خوارزمية تصنيف شجرة القرار.\n",
    "from sklearn.metrics import classification_report  # يعطي تقريراً كاملاً عن الأداء، بما في ذلك الدقة \n",
    "\n",
    "# Load the dataset\n",
    "iris = load_iris()  # تحميل مجموعة بيانات الأيريس.\n",
    "X = iris.data  # البيانات التي سنستخدمها للتدريب.\n",
    "y = iris.target  # الفئات المستهدفة التي نريد التنبؤ بها.\n",
    "\n",
    "# Split the dataset into training and testing sets\n",
    "X_train, X_test, y_train, y_test = train_test_split(X, y, test_size=0.3, random_state=42)\n",
    "# train_test_split(X, y, test_size=0.3, random_state=42): تقسيم البيانات إلى مجموعة تدريب (70%) واختبار (30%)، مع تعيين بذور عشوائية لضمان تكرار النتائج.\n",
    "\n",
    "# Create and train the Decision Tree Classifier\n",
    "clf = DecisionTreeClassifier()  # ينشئ نموذج شجرة قرار.\n",
    "clf.fit(X_train, y_train)  # يقوم بتدريب شجرة القرار باستخدام بيانات التدريب.\n",
    "\n",
    "# Make predictions on the test set\n",
    "y_pred = clf.predict(X_test)  # يقوم بتصنيف بيانات الاختبار باستخدام شجرة القرار المدربة.\n",
    "\n",
    "# Evaluate the model\n",
    "report = classification_report(y_test, y_pred, target_names=iris.target_names)\n",
    "# classification_report(y_test, y_pred, target_names=iris.target_names): يعطي تقريراً عن دقة النموذج، الاسترجاع (recall)، وF1-score لكل فئة من الزهور.\n",
    "\n",
    "print(report)  # طباعة تقرير دقة النموذج.\n",
    "\n"
   ]
  },
  {
   "cell_type": "code",
   "execution_count": 7,
   "metadata": {},
   "outputs": [
    {
     "name": "stdout",
     "output_type": "stream",
     "text": [
      "The predicted flower type is: Red_Flower\n"
     ]
    }
   ],
   "source": [
    "import os\n",
    "import cv2\n",
    "import numpy as np\n",
    "from sklearn.tree import DecisionTreeClassifier\n",
    "from sklearn.preprocessing import LabelEncoder\n",
    "from sklearn.model_selection import train_test_split\n",
    "\n",
    "# إعداد المسارات إلى مجلدات الصور\n",
    "data_dir = \"flower_images\"  # المسار إلى مجلد يحتوي على صور الزهور المصنفة\n",
    "categories = os.listdir(data_dir)  # قائمة الفئات، حيث يُفترض أن كل مجلد يمثل نوعًا من الزهور\n",
    "\n",
    "# إعداد قائمة لحفظ الصور والفئات\n",
    "images = []  # قائمة لتخزين بيانات الصور\n",
    "labels = []  # قائمة لتخزين تسميات الصور (أنواع الزهور)\n",
    "\n",
    "# تحميل الصور وتحويلها إلى مصفوفات (arrays)\n",
    "for category in categories:  # تصفح كل فئة (مجلد)\n",
    "    path = os.path.join(data_dir, category)  # المسار إلى مجلد الفئة\n",
    "    for img_name in os.listdir(path):  # تصفح كل صورة في المجلد\n",
    "        img_path = os.path.join(path, img_name)  # المسار الكامل للصورة\n",
    "        img = cv2.imread(img_path)  # قراءة الصورة باستخدام OpenCV\n",
    "        img = cv2.resize(img, (100, 100))  # تغيير حجم الصورة إلى 100x100 بيكسل\n",
    "        images.append(img)  # إضافة الصورة إلى قائمة الصور\n",
    "        labels.append(category)  # إضافة فئة الصورة إلى قائمة التسميات\n",
    "\n",
    "# تحويل القوائم إلى مصفوفات\n",
    "images = np.array(images)  # تحويل قائمة الصور إلى مصفوفة NumPy\n",
    "labels = np.array(labels)  # تحويل قائمة التسميات إلى مصفوفة NumPy\n",
    "\n",
    "# تحويل الصور إلى بيانات مسطحة (Flatten the images)\n",
    "images = images.reshape(len(images), -1)  # تحويل الصور إلى مصفوفة مسطحة بحيث يكون كل صف هو صورة مسطحة\n",
    "\n",
    "# تحويل الفئات النصية إلى أرقام باستخدام LabelEncoder\n",
    "le = LabelEncoder()  # إنشاء كائن LabelEncoder\n",
    "labels = le.fit_transform(labels)  # تحويل التسميات النصية إلى أرقام\n",
    "\n",
    "# تقسيم البيانات إلى مجموعات تدريب واختبار\n",
    "X_train, X_test, y_train, y_test = train_test_split(images, labels, test_size=0.2, random_state=42)\n",
    "\n",
    "# إنشاء نموذج شجرة قرار وتدريبه\n",
    "clf = DecisionTreeClassifier()  # إنشاء كائن DecisionTreeClassifier\n",
    "clf.fit(X_train, y_train)  # تدريب نموذج شجرة القرار باستخدام بيانات التدريب\n",
    "\n",
    "# وظيفة لتوقع فئة الزهرة من صورة جديدة\n",
    "def predict_flower(image_path):\n",
    "    img = cv2.imread(image_path)  # قراءة الصورة الجديدة\n",
    "    img = cv2.resize(img, (100, 100))  # تغيير حجم الصورة لتتوافق مع الصور التي تم التدريب عليها\n",
    "    img = img.reshape(1, -1)  # تسطيح الصورة لتكون متوافقة مع تنسيق البيانات المدخلة إلى النموذج\n",
    "    prediction = clf.predict(img)  # تصنيف الصورة الجديدة باستخدام النموذج المدرب\n",
    "    flower_name = le.inverse_transform(prediction)  # تحويل الرقم إلى اسم الفئة\n",
    "    return flower_name[0]\n",
    "\n",
    "# تجربة التعرف على نوع زهرة باستخدام صورة جديدة\n",
    "new_image_path = \"test4.jpg\"  # استبدل هذا المسار بمسار الصورة الجديدة\n",
    "predicted_flower = predict_flower(new_image_path)\n",
    "print(f'The predicted flower type is: {predicted_flower}')\n"
   ]
  }
 ],
 "metadata": {
  "kernelspec": {
   "display_name": "Python 3",
   "language": "python",
   "name": "python3"
  },
  "language_info": {
   "codemirror_mode": {
    "name": "ipython",
    "version": 3
   },
   "file_extension": ".py",
   "mimetype": "text/x-python",
   "name": "python",
   "nbconvert_exporter": "python",
   "pygments_lexer": "ipython3",
   "version": "3.12.4"
  }
 },
 "nbformat": 4,
 "nbformat_minor": 2
}
