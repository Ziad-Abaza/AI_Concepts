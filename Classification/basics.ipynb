{
 "cells": [
  {
   "cell_type": "code",
   "execution_count": 4,
   "metadata": {},
   "outputs": [
    {
     "name": "stdout",
     "output_type": "stream",
     "text": [
      "              precision    recall  f1-score   support\n",
      "\n",
      "      setosa       1.00      1.00      1.00        19\n",
      "  versicolor       1.00      1.00      1.00        13\n",
      "   virginica       1.00      1.00      1.00        13\n",
      "\n",
      "    accuracy                           1.00        45\n",
      "   macro avg       1.00      1.00      1.00        45\n",
      "weighted avg       1.00      1.00      1.00        45\n",
      "\n"
     ]
    }
   ],
   "source": [
    "# الانحدار اللوجستي (Logistic Regression)\n",
    "\n",
    "from sklearn.linear_model import LogisticRegression\n",
    "\n",
    "# إنشاء نموذج الانحدار اللوجستي\n",
    "# LogisticRegression: يستخدم لتصنيف البيانات الثنائية، حيث يُستخدم لحساب الاحتمالات بأن تنتمي العينة إلى فئة معينة.\n",
    "model = LogisticRegression()\n",
    "\n",
    "# تدريب النموذج على بيانات التدريب\n",
    "# fit: يستخدم لتدريب النموذج على بيانات التدريب (X_train) وفئات التدريب (y_train).\n",
    "# يقوم النموذج هنا بتقدير المعلمات (الوزن) المثلى للتنبؤ بالفئات.\n",
    "model.fit(X_train, y_train)\n",
    "\n",
    "# التنبؤ بفئات البيانات باستخدام النموذج المدرب\n",
    "# predict: يستخدم لتنبؤ الفئات الجديدة بناءً على النموذج المدرب.\n",
    "# يتم إدخال بيانات الاختبار (X_test) للحصول على التنبؤات للفئات.\n",
    "y_pred = model.predict(X_test)\n"
   ]
  },
  {
   "cell_type": "code",
   "execution_count": null,
   "metadata": {},
   "outputs": [],
   "source": [
    "#  آلات الدعم النقطي (Support Vector Machines - SVM)\n",
    "\n",
    "\n",
    "from sklearn.svm import SVC\n",
    "\n",
    "# إنشاء نموذج SVM\n",
    "# SVC: يستخدم لإنشاء نموذج دعم النقطيات، الذي يسعى لإيجاد أفضل حدود بين الفئات المختلفة.\n",
    "# يمكن استخدامه في التصنيف الثنائي والمتعدد الفئات.\n",
    "model = SVC()\n",
    "\n",
    "# تدريب النموذج على بيانات التدريب\n",
    "# fit: يستخدم لتدريب النموذج على بيانات التدريب (X_train) والفئات (y_train).\n",
    "model.fit(X_train, y_train)\n",
    "\n",
    "# التنبؤ بفئات البيانات باستخدام النموذج المدرب\n",
    "# predict: يستخدم لتنبؤ الفئات الجديدة بناءً على النموذج المدرب.\n",
    "y_pred = model.predict(X_test)\n"
   ]
  },
  {
   "cell_type": "code",
   "execution_count": null,
   "metadata": {},
   "outputs": [],
   "source": [
    "#  شجرة القرار (Decision Tree)\n",
    "\n",
    "\n",
    "from sklearn.tree import DecisionTreeClassifier\n",
    "\n",
    "# إنشاء نموذج شجرة القرار\n",
    "# DecisionTreeClassifier: يستخدم لبناء شجرة قرارات تقوم بتقسيم البيانات بناءً على معايير محددة.\n",
    "# يمكن استخدامه للتصنيف الثنائي والمتعدد الفئات.\n",
    "model = DecisionTreeClassifier()\n",
    "\n",
    "# تدريب النموذج على بيانات التدريب\n",
    "# fit: يستخدم لتدريب النموذج على بيانات التدريب (X_train) والفئات (y_train).\n",
    "model.fit(X_train, y_train)\n",
    "\n",
    "# التنبؤ بفئات البيانات باستخدام النموذج المدرب\n",
    "# predict: يستخدم لتنبؤ الفئات الجديدة بناءً على النموذج المدرب.\n",
    "y_pred = model.predict(X_test)\n"
   ]
  },
  {
   "cell_type": "code",
   "execution_count": 1,
   "metadata": {},
   "outputs": [],
   "source": [
    "#  تحضير البيانات\n",
    "\n",
    "from sklearn.model_selection import train_test_split\n",
    "import numpy as np\n",
    "# بيانات وهمية: الطول والعرض (سم) لكل زهرة\n",
    "# X: مصفوفة تحتوي على ميزات البيانات\n",
    "X = np.array([\n",
    "    [5.1, 3.5],  # زهرة 1: الطول 5.1 سم، العرض 3.5 سم\n",
    "    [4.9, 3.0],  # زهرة 2: الطول 4.9 سم، العرض 3.0 سم\n",
    "    [4.7, 3.2],  # زهرة 3: الطول 4.7 سم، العرض 3.2 سم\n",
    "    [4.6, 3.1],  # زهرة 4: الطول 4.6 سم، العرض 3.1 سم\n",
    "    [5.0, 3.6]   # زهرة 5: الطول 5.0 سم، العرض 3.6 سم\n",
    "])\n",
    "\n",
    "# فئات البيانات: أنواع الزهور\n",
    "# y: مصفوفة تحتوي على الفئات المستهدفة (أسماء الزهور)\n",
    "y = np.array([\n",
    "    'setosa',  # زهرة 1\n",
    "    'setosa',  # زهرة 2\n",
    "    'versicolor',  # زهرة 3\n",
    "    'versicolor',  # زهرة 4\n",
    "    'setosa'  # زهرة 5\n",
    "])\n",
    "\n",
    "# تقسيم البيانات إلى مجموعة تدريب ومجموعة اختبار\n",
    "# train_test_split: دالة لتقسيم البيانات والفئات إلى مجموعة تدريب ومجموعة اختبار.\n",
    "# test_size: تحديد نسبة البيانات المخصصة لمجموعة الاختبار (هنا 30%).\n",
    "# random_state: لتكرار التقسيم للحصول على نفس النتائج عند تشغيل الكود عدة مرات.\n",
    "# X: تمثل بيانات المدخلات أو الميزات التي تُستخدم لتدريب النموذج.\n",
    "# y: تمثل الفئات المستهدفة أو الأهداف التي نحاول التنبؤ بها.\n",
    "X_train, X_test, y_train, y_test = train_test_split(X, y, test_size=0.3, random_state=42)\n"
   ]
  },
  {
   "cell_type": "code",
   "execution_count": null,
   "metadata": {},
   "outputs": [],
   "source": [
    "# تقييم النموذج\n",
    "\n",
    "from sklearn.metrics import accuracy_score\n",
    "\n",
    "# التنبؤ بفئات بيانات الاختبار\n",
    "y_pred = model.predict(X_test)\n",
    "\n",
    "# حساب دقة النموذج\n",
    "# accuracy_score: دالة لحساب دقة النموذج بناءً على مقارنة الفئات الحقيقية بالفئات المتنبأ بها.\n",
    "accuracy = accuracy_score(y_test, y_pred)\n",
    "\n",
    "# طباعة دقة النموذج\n",
    "print(f'Accuracy: {accuracy}')\n"
   ]
  },
  {
   "cell_type": "code",
   "execution_count": null,
   "metadata": {},
   "outputs": [],
   "source": [
    "# التنبؤ بالبيانات الجديدة\n",
    "\n",
    "# مثال لبيانات جديدة للتنبؤ بها\n",
    "new_data = np.array([\n",
    "    [5.0, 3.5],  # بيانات زهرة جديدة 1\n",
    "    [4.8, 3.4]   # بيانات زهرة جديدة 2\n",
    "])\n",
    "\n",
    "# التنبؤ بفئات البيانات الجديدة باستخدام النموذج المدرب\n",
    "new_data_pred = model.predict(new_data)\n"
   ]
  }
 ],
 "metadata": {
  "kernelspec": {
   "display_name": "Python 3",
   "language": "python",
   "name": "python3"
  },
  "language_info": {
   "codemirror_mode": {
    "name": "ipython",
    "version": 3
   },
   "file_extension": ".py",
   "mimetype": "text/x-python",
   "name": "python",
   "nbconvert_exporter": "python",
   "pygments_lexer": "ipython3",
   "version": "3.12.4"
  }
 },
 "nbformat": 4,
 "nbformat_minor": 2
}
